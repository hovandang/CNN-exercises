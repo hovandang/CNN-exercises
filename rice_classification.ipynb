{
  "nbformat": 4,
  "nbformat_minor": 0,
  "metadata": {
    "colab": {
      "provenance": []
    },
    "kernelspec": {
      "name": "python3",
      "display_name": "Python 3"
    },
    "language_info": {
      "name": "python"
    },
    "accelerator": "GPU",
    "gpuClass": "standard"
  },
  "cells": [
    {
      "cell_type": "code",
      "execution_count": 2,
      "metadata": {
        "id": "yDvT2g-vkizj",
        "colab": {
          "base_uri": "https://localhost:8080/"
        },
        "outputId": "4e09b878-73c4-4f14-b9c5-16248353b06b"
      },
      "outputs": [
        {
          "output_type": "stream",
          "name": "stdout",
          "text": [
            "Looking in indexes: https://pypi.org/simple, https://us-python.pkg.dev/colab-wheels/public/simple/\n",
            "Requirement already satisfied: opendatasets in /usr/local/lib/python3.7/dist-packages (0.1.22)\n",
            "Requirement already satisfied: tqdm in /usr/local/lib/python3.7/dist-packages (from opendatasets) (4.64.1)\n",
            "Requirement already satisfied: click in /usr/local/lib/python3.7/dist-packages (from opendatasets) (7.1.2)\n",
            "Requirement already satisfied: kaggle in /usr/local/lib/python3.7/dist-packages (from opendatasets) (1.5.12)\n",
            "Requirement already satisfied: python-slugify in /usr/local/lib/python3.7/dist-packages (from kaggle->opendatasets) (6.1.2)\n",
            "Requirement already satisfied: urllib3 in /usr/local/lib/python3.7/dist-packages (from kaggle->opendatasets) (1.24.3)\n",
            "Requirement already satisfied: certifi in /usr/local/lib/python3.7/dist-packages (from kaggle->opendatasets) (2022.9.24)\n",
            "Requirement already satisfied: requests in /usr/local/lib/python3.7/dist-packages (from kaggle->opendatasets) (2.23.0)\n",
            "Requirement already satisfied: python-dateutil in /usr/local/lib/python3.7/dist-packages (from kaggle->opendatasets) (2.8.2)\n",
            "Requirement already satisfied: six>=1.10 in /usr/local/lib/python3.7/dist-packages (from kaggle->opendatasets) (1.15.0)\n",
            "Requirement already satisfied: text-unidecode>=1.3 in /usr/local/lib/python3.7/dist-packages (from python-slugify->kaggle->opendatasets) (1.3)\n",
            "Requirement already satisfied: idna<3,>=2.5 in /usr/local/lib/python3.7/dist-packages (from requests->kaggle->opendatasets) (2.10)\n",
            "Requirement already satisfied: chardet<4,>=3.0.2 in /usr/local/lib/python3.7/dist-packages (from requests->kaggle->opendatasets) (3.0.4)\n",
            "Looking in indexes: https://pypi.org/simple, https://us-python.pkg.dev/colab-wheels/public/simple/\n",
            "Requirement already satisfied: pandas in /usr/local/lib/python3.7/dist-packages (1.3.5)\n",
            "Requirement already satisfied: pytz>=2017.3 in /usr/local/lib/python3.7/dist-packages (from pandas) (2022.6)\n",
            "Requirement already satisfied: numpy>=1.17.3 in /usr/local/lib/python3.7/dist-packages (from pandas) (1.21.6)\n",
            "Requirement already satisfied: python-dateutil>=2.7.3 in /usr/local/lib/python3.7/dist-packages (from pandas) (2.8.2)\n",
            "Requirement already satisfied: six>=1.5 in /usr/local/lib/python3.7/dist-packages (from python-dateutil>=2.7.3->pandas) (1.15.0)\n"
          ]
        }
      ],
      "source": [
        "!pip install opendatasets\n",
        "!pip install pandas"
      ]
    },
    {
      "cell_type": "code",
      "source": [
        "cd /content/"
      ],
      "metadata": {
        "colab": {
          "base_uri": "https://localhost:8080/"
        },
        "id": "FMqD6g4Zlxnx",
        "outputId": "252d1337-a504-4f73-8a50-c9dc4d22a2a2"
      },
      "execution_count": 3,
      "outputs": [
        {
          "output_type": "stream",
          "name": "stdout",
          "text": [
            "/content\n"
          ]
        }
      ]
    },
    {
      "cell_type": "code",
      "source": [
        "import opendatasets as od\n",
        "import pandas\n",
        "  \n",
        "od.download(\n",
        "    \"https://www.kaggle.com/datasets/muratkokludataset/rice-image-dataset\",force = True)"
      ],
      "metadata": {
        "colab": {
          "base_uri": "https://localhost:8080/"
        },
        "id": "5eof7ylrl0JQ",
        "outputId": "5de6d38b-317d-4ada-8eb4-259249d829bb"
      },
      "execution_count": 4,
      "outputs": [
        {
          "output_type": "stream",
          "name": "stdout",
          "text": [
            "Please provide your Kaggle credentials to download this dataset. Learn more: http://bit.ly/kaggle-creds\n",
            "Your Kaggle username: ngan437\n",
            "Your Kaggle Key: ··········\n",
            "Downloading rice-image-dataset.zip to ./rice-image-dataset\n"
          ]
        },
        {
          "output_type": "stream",
          "name": "stderr",
          "text": [
            "100%|██████████| 219M/219M [00:10<00:00, 21.8MB/s]\n"
          ]
        },
        {
          "output_type": "stream",
          "name": "stdout",
          "text": [
            "\n"
          ]
        }
      ]
    },
    {
      "cell_type": "code",
      "source": [
        "import matplotlib.pyplot as plt\n",
        "import seaborn as sns\n",
        "import numpy as np\n",
        "import pandas as pd\n",
        "import random\n",
        "import cv2\n",
        "import os\n",
        "import PIL\n",
        "import pathlib\n",
        "from sklearn.metrics import classification_report, confusion_matrix\n",
        "\n",
        "\n",
        "import tensorflow as tf\n",
        "from tensorflow import keras\n",
        "from tensorflow.keras import layers\n",
        "from tensorflow.keras.models import Sequential\n",
        "from keras.callbacks import ModelCheckpoint, EarlyStopping, ReduceLROnPlateau\n",
        "from keras.preprocessing.image import ImageDataGenerator\n",
        "from keras.applications.vgg16 import VGG16"
      ],
      "metadata": {
        "id": "-Q933bsWmf7x"
      },
      "execution_count": 5,
      "outputs": []
    },
    {
      "cell_type": "code",
      "source": [
        "cd rice-image-dataset/"
      ],
      "metadata": {
        "id": "zk0HHqRepIBJ",
        "outputId": "300088c7-3626-4eb0-aece-bee18b0ad7d3",
        "colab": {
          "base_uri": "https://localhost:8080/"
        }
      },
      "execution_count": 6,
      "outputs": [
        {
          "output_type": "stream",
          "name": "stdout",
          "text": [
            "/content/rice-image-dataset\n"
          ]
        }
      ]
    },
    {
      "cell_type": "code",
      "source": [
        "ls"
      ],
      "metadata": {
        "id": "gh837UNQpP7o",
        "outputId": "e16014fd-2758-41e6-8446-86c5c8c85b27",
        "colab": {
          "base_uri": "https://localhost:8080/"
        }
      },
      "execution_count": 7,
      "outputs": [
        {
          "output_type": "stream",
          "name": "stdout",
          "text": [
            "\u001b[0m\u001b[01;34mRice_Image_Dataset\u001b[0m/\n"
          ]
        }
      ]
    },
    {
      "cell_type": "code",
      "source": [
        "cd Rice_Image_Dataset/"
      ],
      "metadata": {
        "id": "1P60HsmVpTP4",
        "outputId": "7666995c-7c35-4d10-a39b-e98c05705b51",
        "colab": {
          "base_uri": "https://localhost:8080/"
        }
      },
      "execution_count": 8,
      "outputs": [
        {
          "output_type": "stream",
          "name": "stdout",
          "text": [
            "/content/rice-image-dataset/Rice_Image_Dataset\n"
          ]
        }
      ]
    },
    {
      "cell_type": "code",
      "source": [
        "ls"
      ],
      "metadata": {
        "id": "oRBvd15mpW84",
        "outputId": "3be91377-8ab9-4497-a795-e05188aa78f6",
        "colab": {
          "base_uri": "https://localhost:8080/"
        }
      },
      "execution_count": 9,
      "outputs": [
        {
          "output_type": "stream",
          "name": "stdout",
          "text": [
            "\u001b[0m\u001b[01;34mArborio\u001b[0m/  \u001b[01;34mBasmati\u001b[0m/  \u001b[01;34mIpsala\u001b[0m/  \u001b[01;34mJasmine\u001b[0m/  \u001b[01;34mKaracadag\u001b[0m/  Rice_Citation_Request.txt\n"
          ]
        }
      ]
    },
    {
      "cell_type": "code",
      "source": [
        "import os\n",
        "\n",
        "os.remove(\"Rice_Citation_Request.txt\")"
      ],
      "metadata": {
        "id": "HjjDdNsOpZLI"
      },
      "execution_count": 10,
      "outputs": []
    },
    {
      "cell_type": "code",
      "source": [
        "ls"
      ],
      "metadata": {
        "id": "d6Ogdd_spmMw",
        "outputId": "8d21ac21-d0b0-446d-d54b-e390bf591036",
        "colab": {
          "base_uri": "https://localhost:8080/"
        }
      },
      "execution_count": 11,
      "outputs": [
        {
          "output_type": "stream",
          "name": "stdout",
          "text": [
            "\u001b[0m\u001b[01;34mArborio\u001b[0m/  \u001b[01;34mBasmati\u001b[0m/  \u001b[01;34mIpsala\u001b[0m/  \u001b[01;34mJasmine\u001b[0m/  \u001b[01;34mKaracadag\u001b[0m/\n"
          ]
        }
      ]
    },
    {
      "cell_type": "code",
      "source": [
        "import shutil\n",
        "\n",
        "shutil.rmtree('Ipsala')\n",
        "shutil.rmtree('Jasmine')\n",
        "shutil.rmtree('Karacadag')    "
      ],
      "metadata": {
        "id": "9jw63xSdQn0F"
      },
      "execution_count": 12,
      "outputs": []
    },
    {
      "cell_type": "code",
      "source": [
        "import cv2\n",
        "from pathlib import Path\n",
        "rice_dataset_folder = './'\n",
        "classnames = []\n",
        "for path in Path(rice_dataset_folder).iterdir():\n",
        "    if path.is_dir():\n",
        "        classnames.append(str(path).split('/')[-1])\n",
        "print(classnames)\n",
        "X = []\n",
        "y = []\n",
        "for i in range(len(classnames)):\n",
        "  print(classnames[i])\n",
        "  images = list(Path(rice_dataset_folder+classnames[i]).glob('*'))\n",
        "  for image in range(int(0.4*len(images))):\n",
        "    img = cv2.imread(str(images[image]))\n",
        "    img = cv2.resize(img, (128, 128))\n",
        "    img = img.astype('float32')\n",
        "    img = img/255\n",
        "    X.append(img)\n",
        "    y.append(i)"
      ],
      "metadata": {
        "id": "CFeTIVtFzJqY",
        "outputId": "c90d56e7-59dd-41c7-85e2-35cb2641a8e3",
        "colab": {
          "base_uri": "https://localhost:8080/"
        }
      },
      "execution_count": 13,
      "outputs": [
        {
          "output_type": "stream",
          "name": "stdout",
          "text": [
            "['Basmati', 'Arborio']\n",
            "Basmati\n",
            "Arborio\n"
          ]
        }
      ]
    },
    {
      "cell_type": "code",
      "source": [
        "X = np.array(X)\n",
        "y = np.array(y)\n",
        "print(X.shape)\n",
        "print(y.shape)"
      ],
      "metadata": {
        "id": "g_bIkQN6p7XQ",
        "outputId": "4b3d3d9b-2929-4f1d-8317-7af6efb9e91a",
        "colab": {
          "base_uri": "https://localhost:8080/"
        }
      },
      "execution_count": 14,
      "outputs": [
        {
          "output_type": "stream",
          "name": "stdout",
          "text": [
            "(12000, 128, 128, 3)\n",
            "(12000,)\n"
          ]
        }
      ]
    },
    {
      "cell_type": "code",
      "source": [
        "from keras.utils import to_categorical\n",
        "y = to_categorical(y)\n",
        "print(y.shape)"
      ],
      "metadata": {
        "id": "sJ77_T9Xp_wg",
        "outputId": "42d4ab41-ccaa-4593-8e9c-c623d98c9db7",
        "colab": {
          "base_uri": "https://localhost:8080/"
        }
      },
      "execution_count": 15,
      "outputs": [
        {
          "output_type": "stream",
          "name": "stdout",
          "text": [
            "(12000, 2)\n"
          ]
        }
      ]
    },
    {
      "cell_type": "code",
      "source": [
        "from sklearn.model_selection import train_test_split\n",
        "X_train, X_test, y_train, y_test = train_test_split(X, y, test_size=0.2)"
      ],
      "metadata": {
        "id": "WK44pcwdqDJR"
      },
      "execution_count": 16,
      "outputs": []
    },
    {
      "cell_type": "code",
      "source": [
        "from keras import models, layers\n",
        "from keras.layers import Flatten, Dense, Activation\n",
        "from keras.layers import Conv2D, MaxPooling2D\n",
        "from keras.utils import np_utils \n",
        "model = models.Sequential()\n",
        "model.add(Conv2D(32,kernel_size=(3,3),activation='relu',input_shape=(128,128,3),padding = 'same'))\n",
        "model.add(MaxPooling2D((2,2),padding='same'))\n",
        "model.add(Conv2D(64,kernel_size=(3,3),activation='relu',padding = 'same'))\n",
        "model.add(MaxPooling2D((2,2),padding='same'))\n",
        "model.add(Conv2D(128,kernel_size=(3,3),activation='relu',padding = 'same'))\n",
        "model.add(MaxPooling2D((2,2),padding='same'))\n",
        "model.add(Flatten(input_shape=[128, 128, 3]))\n",
        "model.add(Dense(1000, activation='relu'))\n",
        "model.add(Dense(3000, activation='relu'))\n",
        "model.add(Dense(2000, activation='relu'))\n",
        "model.add(Dense(500, activation='relu'))\n",
        "model.add(Dense(100, activation='relu'))\n",
        "model.add(Dense(2, activation='softmax'))\n",
        "model.summary()\n",
        "model.compile(optimizer='rmsprop', loss='categorical_crossentropy', metrics=['accuracy'])"
      ],
      "metadata": {
        "id": "edaXEC3zqFyw",
        "outputId": "80bbe28f-c276-4935-8809-380c78942baf",
        "colab": {
          "base_uri": "https://localhost:8080/"
        }
      },
      "execution_count": 17,
      "outputs": [
        {
          "output_type": "stream",
          "name": "stdout",
          "text": [
            "Model: \"sequential\"\n",
            "_________________________________________________________________\n",
            " Layer (type)                Output Shape              Param #   \n",
            "=================================================================\n",
            " conv2d (Conv2D)             (None, 128, 128, 32)      896       \n",
            "                                                                 \n",
            " max_pooling2d (MaxPooling2D  (None, 64, 64, 32)       0         \n",
            " )                                                               \n",
            "                                                                 \n",
            " conv2d_1 (Conv2D)           (None, 64, 64, 64)        18496     \n",
            "                                                                 \n",
            " max_pooling2d_1 (MaxPooling  (None, 32, 32, 64)       0         \n",
            " 2D)                                                             \n",
            "                                                                 \n",
            " conv2d_2 (Conv2D)           (None, 32, 32, 128)       73856     \n",
            "                                                                 \n",
            " max_pooling2d_2 (MaxPooling  (None, 16, 16, 128)      0         \n",
            " 2D)                                                             \n",
            "                                                                 \n",
            " flatten (Flatten)           (None, 32768)             0         \n",
            "                                                                 \n",
            " dense (Dense)               (None, 1000)              32769000  \n",
            "                                                                 \n",
            " dense_1 (Dense)             (None, 3000)              3003000   \n",
            "                                                                 \n",
            " dense_2 (Dense)             (None, 2000)              6002000   \n",
            "                                                                 \n",
            " dense_3 (Dense)             (None, 500)               1000500   \n",
            "                                                                 \n",
            " dense_4 (Dense)             (None, 100)               50100     \n",
            "                                                                 \n",
            " dense_5 (Dense)             (None, 2)                 202       \n",
            "                                                                 \n",
            "=================================================================\n",
            "Total params: 42,918,050\n",
            "Trainable params: 42,918,050\n",
            "Non-trainable params: 0\n",
            "_________________________________________________________________\n"
          ]
        }
      ]
    },
    {
      "cell_type": "code",
      "source": [
        "history = model.fit(X_train, y_train, epochs=20, batch_size=128, verbose=2)"
      ],
      "metadata": {
        "id": "5j3UlPgCQf79",
        "outputId": "0eaf204b-7e6d-40c7-ccce-fec7de507533",
        "colab": {
          "base_uri": "https://localhost:8080/"
        }
      },
      "execution_count": 18,
      "outputs": [
        {
          "output_type": "stream",
          "name": "stdout",
          "text": [
            "Epoch 1/20\n",
            "75/75 - 16s - loss: 1.4298 - accuracy: 0.9312 - 16s/epoch - 215ms/step\n",
            "Epoch 2/20\n",
            "75/75 - 6s - loss: 0.3152 - accuracy: 0.9832 - 6s/epoch - 82ms/step\n",
            "Epoch 3/20\n",
            "75/75 - 6s - loss: 0.1299 - accuracy: 0.9882 - 6s/epoch - 81ms/step\n",
            "Epoch 4/20\n",
            "75/75 - 6s - loss: 0.0235 - accuracy: 0.9935 - 6s/epoch - 82ms/step\n",
            "Epoch 5/20\n",
            "75/75 - 6s - loss: 0.0088 - accuracy: 0.9983 - 6s/epoch - 82ms/step\n",
            "Epoch 6/20\n",
            "75/75 - 6s - loss: 0.0060 - accuracy: 0.9991 - 6s/epoch - 82ms/step\n",
            "Epoch 7/20\n",
            "75/75 - 6s - loss: 0.0069 - accuracy: 0.9983 - 6s/epoch - 82ms/step\n",
            "Epoch 8/20\n",
            "75/75 - 6s - loss: 0.0171 - accuracy: 0.9936 - 6s/epoch - 82ms/step\n",
            "Epoch 9/20\n",
            "75/75 - 6s - loss: 0.0025 - accuracy: 0.9993 - 6s/epoch - 82ms/step\n",
            "Epoch 10/20\n",
            "75/75 - 6s - loss: 0.0063 - accuracy: 0.9994 - 6s/epoch - 82ms/step\n",
            "Epoch 11/20\n",
            "75/75 - 6s - loss: 8.6009e-05 - accuracy: 1.0000 - 6s/epoch - 83ms/step\n",
            "Epoch 12/20\n",
            "75/75 - 6s - loss: 0.0054 - accuracy: 0.9998 - 6s/epoch - 83ms/step\n",
            "Epoch 13/20\n",
            "75/75 - 6s - loss: 0.0054 - accuracy: 0.9994 - 6s/epoch - 83ms/step\n",
            "Epoch 14/20\n",
            "75/75 - 6s - loss: 7.8492e-04 - accuracy: 0.9998 - 6s/epoch - 83ms/step\n",
            "Epoch 15/20\n",
            "75/75 - 6s - loss: 0.0057 - accuracy: 0.9991 - 6s/epoch - 83ms/step\n",
            "Epoch 16/20\n",
            "75/75 - 6s - loss: 0.0030 - accuracy: 0.9998 - 6s/epoch - 84ms/step\n",
            "Epoch 17/20\n",
            "75/75 - 6s - loss: 0.0015 - accuracy: 0.9998 - 6s/epoch - 83ms/step\n",
            "Epoch 18/20\n",
            "75/75 - 6s - loss: 0.0012 - accuracy: 0.9999 - 6s/epoch - 83ms/step\n",
            "Epoch 19/20\n",
            "75/75 - 6s - loss: 4.5828e-07 - accuracy: 1.0000 - 6s/epoch - 82ms/step\n",
            "Epoch 20/20\n",
            "75/75 - 6s - loss: 0.0000e+00 - accuracy: 1.0000 - 6s/epoch - 82ms/step\n"
          ]
        }
      ]
    },
    {
      "cell_type": "code",
      "source": [
        "model.evaluate(X_test, y_test)"
      ],
      "metadata": {
        "id": "-CB_qoa3R9CE",
        "outputId": "7bea65fb-230f-4479-c121-746235843721",
        "colab": {
          "base_uri": "https://localhost:8080/"
        }
      },
      "execution_count": 19,
      "outputs": [
        {
          "output_type": "stream",
          "name": "stdout",
          "text": [
            "75/75 [==============================] - 1s 10ms/step - loss: 0.0248 - accuracy: 0.9987\n"
          ]
        },
        {
          "output_type": "execute_result",
          "data": {
            "text/plain": [
              "[0.02484021708369255, 0.9987499713897705]"
            ]
          },
          "metadata": {},
          "execution_count": 19
        }
      ]
    },
    {
      "cell_type": "code",
      "source": [
        "# n = 0\n",
        "n=5\n",
        "print(X_test[n].shape)\n",
        "plt.imshow(X_test[n])\n",
        "pred = model.predict(X_test[n].reshape(1, 128, 128, 3))\n",
        "print('Pred: ', classnames[pred.argmax()])\n",
        "print('True label: ', classnames[y_test[n].argmax()])"
      ],
      "metadata": {
        "id": "peasjvj7Sj5r",
        "outputId": "be5d371c-902e-4c7d-da19-888aab8664a7",
        "colab": {
          "base_uri": "https://localhost:8080/",
          "height": 337
        }
      },
      "execution_count": 20,
      "outputs": [
        {
          "output_type": "stream",
          "name": "stdout",
          "text": [
            "(128, 128, 3)\n",
            "1/1 [==============================] - 0s 380ms/step\n",
            "Pred:  Arborio\n",
            "True label:  Arborio\n"
          ]
        },
        {
          "output_type": "display_data",
          "data": {
            "text/plain": [
              "<Figure size 432x288 with 1 Axes>"
            ],
            "image/png": "[encoded data removed]"
          },
          "metadata": {
            "needs_background": "light"
          }
        }
      ]
    }
  ]
}